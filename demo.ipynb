{
 "cells": [
  {
   "cell_type": "markdown",
   "metadata": {},
   "source": [
    "# Demo\n",
    "\n",
    "This notebook shows control implementations from other SSPs that are most similar to the provided text.\n",
    "\n",
    "Re-run this cell when Python code in the repository changes."
   ]
  },
  {
   "cell_type": "code",
   "execution_count": null,
   "metadata": {},
   "outputs": [],
   "source": [
    "%%capture\n",
    "import importlib\n",
    "import fismatic.core as fismatic\n",
    "from fismatic.similarity import nlp\n",
    "importlib.reload(fismatic)"
   ]
  },
  {
   "cell_type": "markdown",
   "metadata": {},
   "source": [
    "## Load files"
   ]
  },
  {
   "cell_type": "code",
   "execution_count": null,
   "metadata": {},
   "outputs": [],
   "source": [
    "import ipywidgets as widgets\n",
    "path_widget = widgets.Text(description=\"Path:\", value=\".\")\n",
    "display(path_widget)"
   ]
  },
  {
   "cell_type": "code",
   "execution_count": null,
   "metadata": {},
   "outputs": [],
   "source": [
    "%%capture\n",
    "files = fismatic.get_files(path_widget.value)\n",
    "control_sets = [fismatic.control_set_for(f) for f in files]"
   ]
  },
  {
   "cell_type": "markdown",
   "metadata": {},
   "source": [
    "## Interactive area\n",
    "\n",
    "You can modify the text in the fields below. You will then see a couple similar implementations for the same control part."
   ]
  },
  {
   "cell_type": "code",
   "execution_count": null,
   "metadata": {
    "scrolled": false
   },
   "outputs": [],
   "source": [
    "control_name = widgets.Text(description=\"Control:\", value=\"AC-2\")\n",
    "part = widgets.Text(description=\"Part:\", value=\"Part a\")\n",
    "implementation = widgets.Textarea(description=\"Implementation:\", value=\"This is a system using AWS EC2.\")\n",
    "\n",
    "\n",
    "def on_input_change(change):\n",
    "    user_implementation = nlp(implementation.value)\n",
    "\n",
    "    implementations = [cs.get_implementation_for(control_name.value, part.value) for cs in control_sets]\n",
    "    # exclude SSPs that don't have that control+part\n",
    "    implementations = filter(None, implementations)\n",
    "\n",
    "    # get the most similar\n",
    "    similar_implementations = sorted(implementations, key=lambda imp: imp.similarity(user_implementation), reverse=True)\n",
    "    similar_imp_txt = [imp.text for imp in similar_implementations]\n",
    "    \n",
    "    print(\"\\n\\n---------------\\n\\n\".join(similar_imp_txt[0:2]))\n",
    "\n",
    "\n",
    "inputs = [control_name, part, implementation]\n",
    "for widget in inputs:\n",
    "    widget.observe(on_input_change, names='value')\n",
    "    display(widget)"
   ]
  },
  {
   "cell_type": "code",
   "execution_count": null,
   "metadata": {},
   "outputs": [],
   "source": []
  }
 ],
 "metadata": {
  "kernelspec": {
   "display_name": "Python 3",
   "language": "python",
   "name": "python3"
  },
  "language_info": {
   "codemirror_mode": {
    "name": "ipython",
    "version": 3
   },
   "file_extension": ".py",
   "mimetype": "text/x-python",
   "name": "python",
   "nbconvert_exporter": "python",
   "pygments_lexer": "ipython3",
   "version": "3.7.3"
  }
 },
 "nbformat": 4,
 "nbformat_minor": 2
}
