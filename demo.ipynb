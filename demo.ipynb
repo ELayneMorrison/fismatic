{
 "cells": [
  {
   "cell_type": "markdown",
   "metadata": {},
   "source": [
    "# Demo\n",
    "\n",
    "This notebook shows control implementations from other SSPs that are most similar to the provided text.\n",
    "\n",
    "Re-run this cell when Python code in the repository changes."
   ]
  },
  {
   "cell_type": "code",
   "execution_count": null,
   "metadata": {},
   "outputs": [],
   "source": [
    "# ignore whitespace warnings\n",
    "%env SPACY_WARNING_IGNORE=W008\n",
    "\n",
    "import importlib\n",
    "import fismatic.core as fismatic\n",
    "import fismatic.demo as demo\n",
    "import ipywidgets as widgets\n",
    "\n",
    "importlib.reload(demo)\n",
    "importlib.reload(fismatic);"
   ]
  },
  {
   "cell_type": "markdown",
   "metadata": {},
   "source": [
    "## Load files"
   ]
  },
  {
   "cell_type": "code",
   "execution_count": null,
   "metadata": {},
   "outputs": [],
   "source": [
    "path_widget = widgets.Text(description=\"Path:\", value=\".\")\n",
    "display(path_widget)"
   ]
  },
  {
   "cell_type": "code",
   "execution_count": null,
   "metadata": {},
   "outputs": [],
   "source": [
    "files = fismatic.get_files(path_widget.value)\n",
    "control_sets = [fismatic.control_set_for(f) for f in files]"
   ]
  },
  {
   "cell_type": "markdown",
   "metadata": {},
   "source": [
    "Set up interactive widgets."
   ]
  },
  {
   "cell_type": "code",
   "execution_count": null,
   "metadata": {},
   "outputs": [],
   "source": [
    "control_name = widgets.Text(description=\"Control:\", value=\"AC-2\")\n",
    "part = widgets.Text(description=\"Part:\", value=\"Part a\")\n",
    "implementation = widgets.Textarea(description=\"Implementation:\", value=\"This is a system using AWS EC2.\")\n",
    "inputs = [control_name, part, implementation]\n",
    "out = widgets.Output()\n",
    "\n",
    "\n",
    "def on_input_change(change):\n",
    "    similar_implementations = demo.similar_implementations(control_sets, control_name.value, part.value, implementation.value)\n",
    "    similar_imp_txt = [imp.text for imp in similar_implementations]\n",
    "    \n",
    "    out.clear_output()\n",
    "    out.append_stdout(\"\\n\\n---------------\\n\\n\".join(similar_imp_txt[0:2]))\n",
    "\n",
    "\n",
    "for widget in inputs:\n",
    "    widget.observe(on_input_change, names='value')"
   ]
  },
  {
   "cell_type": "markdown",
   "metadata": {},
   "source": [
    "## Interactive area\n",
    "\n",
    "You can modify the text in the fields below. You will then see a couple similar implementations for the same control part."
   ]
  },
  {
   "cell_type": "code",
   "execution_count": null,
   "metadata": {
    "scrolled": false
   },
   "outputs": [],
   "source": [
    "for widget in inputs:\n",
    "    display(widget)\n",
    "\n",
    "display(out)"
   ]
  },
  {
   "cell_type": "code",
   "execution_count": null,
   "metadata": {},
   "outputs": [],
   "source": []
  }
 ],
 "metadata": {
  "kernelspec": {
   "display_name": "Python 3",
   "language": "python",
   "name": "python3"
  },
  "language_info": {
   "codemirror_mode": {
    "name": "ipython",
    "version": 3
   },
   "file_extension": ".py",
   "mimetype": "text/x-python",
   "name": "python",
   "nbconvert_exporter": "python",
   "pygments_lexer": "ipython3",
   "version": "3.7.3"
  }
 },
 "nbformat": 4,
 "nbformat_minor": 2
}
