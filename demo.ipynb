{
 "cells": [
  {
   "cell_type": "markdown",
   "metadata": {},
   "source": [
    "# Demo\n",
    "\n",
    "This notebook shows control implementations from other SSPs that are most similar to the provided text.\n",
    "\n",
    "Re-run this cell when Python code in the repository changes."
   ]
  },
  {
   "cell_type": "code",
   "execution_count": null,
   "metadata": {},
   "outputs": [],
   "source": [
    "%%capture\n",
    "import importlib\n",
    "import fismatic.core as fismatic\n",
    "from fismatic.similarity import nlp\n",
    "importlib.reload(fismatic)"
   ]
  },
  {
   "cell_type": "markdown",
   "metadata": {},
   "source": [
    "## Load files"
   ]
  },
  {
   "cell_type": "code",
   "execution_count": null,
   "metadata": {},
   "outputs": [],
   "source": [
    "%%capture\n",
    "files = fismatic.get_files(\"/Users/aidan/Downloads/drive-download-20190430T034251Z-001/\")\n",
    "control_set_by_file = {f: fismatic.control_set_for(f) for f in files}\n",
    "control_sets = control_set_by_file.values()"
   ]
  },
  {
   "cell_type": "markdown",
   "metadata": {},
   "source": [
    "## Interactive area\n",
    "\n",
    "You can modify the text in the strings below."
   ]
  },
  {
   "cell_type": "code",
   "execution_count": null,
   "metadata": {},
   "outputs": [],
   "source": [
    "control_name = \"AC-2\"\n",
    "part = \"Part a\"\n",
    "implementation = \"\"\"\n",
    "This is a system using AWS EC2.\n",
    "\"\"\""
   ]
  },
  {
   "cell_type": "code",
   "execution_count": null,
   "metadata": {},
   "outputs": [],
   "source": [
    "user_implementation = nlp(implementation)\n",
    "\n",
    "implementations = [cs.get_implementation_for(control_name, part) for cs in control_sets]\n",
    "# exclude SSPs that don't have that control+part\n",
    "implementations = filter(None, implementations)\n",
    "\n",
    "# get the most similar\n",
    "similar_implementations = sorted(implementations, key=lambda imp: imp.similarity(user_implementation), reverse=True)\n",
    "similar_imp_txt = [imp.text for imp in similar_implementations]"
   ]
  },
  {
   "cell_type": "markdown",
   "metadata": {},
   "source": [
    "Here are a couple similar implementations for the same control part:"
   ]
  },
  {
   "cell_type": "code",
   "execution_count": null,
   "metadata": {},
   "outputs": [],
   "source": [
    "print(\"\\n\\n---------------\\n\\n\".join(similar_imp_txt[0:2]))"
   ]
  },
  {
   "cell_type": "code",
   "execution_count": null,
   "metadata": {},
   "outputs": [],
   "source": []
  }
 ],
 "metadata": {
  "kernelspec": {
   "display_name": "Python 3",
   "language": "python",
   "name": "python3"
  },
  "language_info": {
   "codemirror_mode": {
    "name": "ipython",
    "version": 3
   },
   "file_extension": ".py",
   "mimetype": "text/x-python",
   "name": "python",
   "nbconvert_exporter": "python",
   "pygments_lexer": "ipython3",
   "version": "3.7.3"
  }
 },
 "nbformat": 4,
 "nbformat_minor": 2
}
