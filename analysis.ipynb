{
 "cells": [
  {
   "cell_type": "code",
   "execution_count": null,
   "metadata": {},
   "outputs": [],
   "source": [
    "import itertools\n",
    "import pandas as pd\n",
    "import plotly.offline as py\n",
    "import plotly.graph_objs as go\n",
    "\n",
    "# offline mode\n",
    "py.init_notebook_mode(connected=True)"
   ]
  },
  {
   "cell_type": "markdown",
   "metadata": {},
   "source": [
    "Re-run this cell when Python code in the repository changes."
   ]
  },
  {
   "cell_type": "code",
   "execution_count": null,
   "metadata": {},
   "outputs": [],
   "source": [
    "%%capture\n",
    "import importlib\n",
    "import fismatic.core as fismatic\n",
    "import fismatic.similarity as similarity\n",
    "importlib.reload(fismatic)\n",
    "importlib.reload(similarity)"
   ]
  },
  {
   "cell_type": "markdown",
   "metadata": {},
   "source": [
    "# Load files"
   ]
  },
  {
   "cell_type": "code",
   "execution_count": null,
   "metadata": {},
   "outputs": [],
   "source": [
    "files = fismatic.get_files(\".\")\n",
    "control_set_by_file = {f: fismatic.control_set_for(f) for f in files}"
   ]
  },
  {
   "cell_type": "code",
   "execution_count": null,
   "metadata": {},
   "outputs": [],
   "source": [
    "stats = [fismatic.stats_for(f, cs) for f, cs in control_set_by_file.items()]\n",
    "df = pd.DataFrame(stats)\n",
    "df.set_index(\"Filename\", inplace=True)\n",
    "df"
   ]
  },
  {
   "cell_type": "code",
   "execution_count": null,
   "metadata": {},
   "outputs": [],
   "source": [
    "control_sets = control_set_by_file.values()\n",
    "control_token_counts = [cs.implementation_token_counts() for cs in control_set_by_file.values()]\n",
    "# flatten\n",
    "# https://stackoverflow.com/a/13498063/358804\n",
    "control_token_counts = list(itertools.chain(*control_token_counts))\n",
    "\n",
    "data = [go.Histogram(x=control_token_counts)]\n",
    "layout = go.Layout(\n",
    "    title=\"Control word counts\",\n",
    "    xaxis={\n",
    "        \"title\": \"Number of words\"\n",
    "    },\n",
    "    yaxis={\n",
    "        \"title\": \"Number of controls\"\n",
    "    }\n",
    ")\n",
    "fig = go.Figure(data=data, layout=layout)\n",
    "py.iplot(fig, filename='basic histogram')"
   ]
  },
  {
   "cell_type": "code",
   "execution_count": null,
   "metadata": {},
   "outputs": [],
   "source": []
  }
 ],
 "metadata": {
  "kernelspec": {
   "display_name": "Python 3",
   "language": "python",
   "name": "python3"
  },
  "language_info": {
   "codemirror_mode": {
    "name": "ipython",
    "version": 3
   },
   "file_extension": ".py",
   "mimetype": "text/x-python",
   "name": "python",
   "nbconvert_exporter": "python",
   "pygments_lexer": "ipython3",
   "version": "3.7.3"
  }
 },
 "nbformat": 4,
 "nbformat_minor": 2
}
